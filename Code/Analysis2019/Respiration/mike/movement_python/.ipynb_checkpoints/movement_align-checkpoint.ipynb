{
 "cells": [
  {
   "cell_type": "code",
   "execution_count": 1,
   "metadata": {},
   "outputs": [],
   "source": [
    "import numpy as np\n",
    "np.warnings.filterwarnings('ignore')\n",
    "import scipy.io as sio\n",
    "from scipy.signal import find_peaks\n",
    "from scipy.signal import savgol_filter\n",
    "from scipy.stats import binned_statistic\n",
    "from pyearth import Earth, export\n",
    "%matplotlib inline\n",
    "import matplotlib.pyplot as plt\n",
    "import seaborn as sns"
   ]
  },
  {
   "cell_type": "code",
   "execution_count": 2,
   "metadata": {},
   "outputs": [],
   "source": [
    "filepath = \"/Users/xizheng/Documents/florin/respiration/K1/K1_20191226_r0_traces.mat\"\n",
    "Traces = sio.loadmat(filepath)['Traces']"
   ]
  },
  {
   "cell_type": "code",
   "execution_count": 3,
   "metadata": {},
   "outputs": [],
   "source": [
    "def process_resp(resp):\n",
    "    windowsize = 15\n",
    "    resp = resp - np.median(resp)\n",
    "    resp = -resp\n",
    "    resp = np.convolve(resp, np.ones(windowsize), 'same') / windowsize\n",
    "    resp_pks_2, _ = find_peaks(-resp, prominence=0.3, height=0.2, distance=10)\n",
    "    \n",
    "    return resp, resp_pks_2"
   ]
  },
  {
   "cell_type": "code",
   "execution_count": 4,
   "metadata": {},
   "outputs": [
    {
     "name": "stdout",
     "output_type": "stream",
     "text": [
      "skipping trial 0\n",
      "skipping trial 56\n"
     ]
    }
   ],
   "source": [
    "peri_move_sniffs = []\n",
    "\n",
    "for idx in range(Traces[0,0]['Trial'].shape[1]):\n",
    "# for idx in range(10):\n",
    "    \n",
    "#     print(\"start analyzing\", idx)\n",
    "    # get data\n",
    "    resp = Traces[0,0]['Sniffs'][0,idx].flatten()\n",
    "    trial_on = Traces[0,0]['Trial'][0,idx].flatten()!=0\n",
    "    if len(resp) == 0:\n",
    "        print(\"skipping trial\", idx)\n",
    "        continue\n",
    "    \n",
    "    # select region to study\n",
    "#     trial_off_idx = np.where(trial_on!=0)[0][-1]+1\n",
    "    trial_off_idx = len(trial_on)\n",
    "    trial_on = trial_on[:trial_off_idx]\n",
    "    \n",
    "    # resp\n",
    "    resp, resp_pks_2 = process_resp(resp[:trial_off_idx])\n",
    "    resp_signal = np.zeros(len(resp))\n",
    "    resp_signal[resp_pks_2] = 1\n",
    "    \n",
    "    # lever\n",
    "    lever = Traces[0,0]['Lever'][0,idx].flatten()\n",
    "    lever = savgol_filter(lever, 25, 4)\n",
    "    lever = lever[:trial_off_idx]\n",
    "    \n",
    "    pks1, _ = find_peaks(lever, prominence=0.01, distance=5)\n",
    "    pks2, _ = find_peaks(-lever, prominence=0.01, distance=5)\n",
    "    peaks = np.concatenate((pks1, pks2))\n",
    "    peaks = np.sort(peaks)\n",
    "    \n",
    "    movement = np.zeros(len(peaks)-1)\n",
    "    for i in range(len(peaks)-1):\n",
    "        movement[i] = abs(lever[peaks[i+1]] - lever[peaks[i]])\n",
    "    movement_signal = np.zeros(len(lever))\n",
    "    movement_signal[peaks[:-1]] = movement\n",
    "    large_threshold = 0.8\n",
    "    \n",
    "    for start_idx in range(len(peaks)-1):\n",
    "        if trial_on[peaks[start_idx]] != 0 and movement_signal[peaks[start_idx]] > large_threshold:\n",
    "            peri_move_sniffs.append(resp_signal[peaks[start_idx]-50:peaks[start_idx]+50])\n",
    "            \n",
    "#     plt.figure(figsize=(12,8))\n",
    "#     plt.plot(lever)\n",
    "#     plt.plot(movement_signal)\n",
    "#     plt.plot(np.where(movement_signal>1)[0], lever[np.where(movement_signal>1)[0]], 'or')\n",
    "#     for i in range(len(resp_pks_2)):\n",
    "#         plt.axvline(resp_pks_2[i], color='k', linewidth=0.5)\n",
    "#     plt.plot(5*trial_on)\n",
    "#     plt.show()\n",
    "            "
   ]
  },
  {
   "cell_type": "code",
   "execution_count": 5,
   "metadata": {},
   "outputs": [],
   "source": [
    "peri_move_sniffs = np.vstack(peri_move_sniffs)\n"
   ]
  },
  {
   "cell_type": "code",
   "execution_count": null,
   "metadata": {},
   "outputs": [],
   "source": []
  },
  {
   "cell_type": "code",
   "execution_count": 6,
   "metadata": {},
   "outputs": [
    {
     "data": {
      "image/png": "[encoded data removed]",
      "text/plain": [
       "<Figure size 864x576 with 1 Axes>"
      ]
     },
     "metadata": {
      "needs_background": "light"
     },
     "output_type": "display_data"
    }
   ],
   "source": [
    "plt.figure(figsize=(12,8))\n",
    "for i in range(peri_move_sniffs.shape[0]):\n",
    "    moves = np.where(peri_move_sniffs[i,:] == 1)[0]\n",
    "    for j in range(len(moves)):\n",
    "        plt.plot((moves[j], moves[j]), (i, i+1), 'k', linewidth=2)\n",
    "plt.axvline(50, color='k')\n",
    "plt.xlabel('sample idx')\n",
    "plt.ylabel('move')\n",
    "plt.xlim((0,100))\n",
    "plt.show()"
   ]
  },
  {
   "cell_type": "code",
   "execution_count": 7,
   "metadata": {},
   "outputs": [
    {
     "data": {
      "image/png": "[encoded data removed]",
      "text/plain": [
       "<Figure size 864x576 with 1 Axes>"
      ]
     },
     "metadata": {
      "needs_background": "light"
     },
     "output_type": "display_data"
    }
   ],
   "source": [
    "mean_sniffs = np.mean(peri_move_sniffs, axis=0)\n",
    "binsize = 1\n",
    "bins = np.arange(0,100,binsize)\n",
    "bin_sums, bin_edges, binnumber = binned_statistic(np.arange(0,100), mean_sniffs, 'sum', bins=bins)\n",
    "\n",
    "plt.figure(figsize=(12,8))\n",
    "plt.bar(bin_edges[:-1]+binsize/2, bin_sums/(0.002*binsize), binsize)\n",
    "plt.axvline(50, color='k')\n",
    "plt.xlabel('sample idx')\n",
    "plt.ylabel('sniff rate')\n",
    "plt.xlim((0,100))\n",
    "plt.show()\n"
   ]
  },
  {
   "cell_type": "code",
   "execution_count": null,
   "metadata": {},
   "outputs": [],
   "source": []
  },
  {
   "cell_type": "code",
   "execution_count": null,
   "metadata": {},
   "outputs": [],
   "source": []
  },
  {
   "cell_type": "code",
   "execution_count": null,
   "metadata": {},
   "outputs": [],
   "source": []
  }
 ],
 "metadata": {
  "kernelspec": {
   "display_name": "Python 3",
   "language": "python",
   "name": "python3"
  },
  "language_info": {
   "codemirror_mode": {
    "name": "ipython",
    "version": 3
   },
   "file_extension": ".py",
   "mimetype": "text/x-python",
   "name": "python",
   "nbconvert_exporter": "python",
   "pygments_lexer": "ipython3",
   "version": "3.8.5"
  }
 },
 "nbformat": 4,
 "nbformat_minor": 4
}
