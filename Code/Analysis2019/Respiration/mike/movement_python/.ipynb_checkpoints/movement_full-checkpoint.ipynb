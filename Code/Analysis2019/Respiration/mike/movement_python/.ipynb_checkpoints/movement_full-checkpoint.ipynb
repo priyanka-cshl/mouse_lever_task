{
 "cells": [
  {
   "cell_type": "code",
   "execution_count": 52,
   "metadata": {},
   "outputs": [],
   "source": [
    "import numpy as np\n",
    "import scipy.io as sio\n",
    "from scipy.signal import savgol_filter, find_peaks\n",
    "from pyearth import Earth\n",
    "%matplotlib inline\n",
    "import matplotlib.pyplot as plt\n",
    "import seaborn as sns"
   ]
  },
  {
   "cell_type": "code",
   "execution_count": 50,
   "metadata": {},
   "outputs": [],
   "source": [
    "# read data\n",
    "filepath = \"/Users/xizheng/Documents/florin/respiration/K1/K1_20191226_r0.mat\"\n",
    "myTraces = sio.loadmat(filepath)['session_data'][0,0]['trace']\n",
    "myTraceLegend = sio.loadmat(filepath)['session_data'][0,0]['trace_legend']"
   ]
  },
  {
   "cell_type": "code",
   "execution_count": 51,
   "metadata": {},
   "outputs": [],
   "source": [
    "# parse data\n",
    "resp = myTraces[:,np.where(myTraceLegend == 'respiration')[1][0]]\n",
    "lever = myTraces[:,np.where(myTraceLegend == 'lever_DAC')[1][0]]\n",
    "trial_on = myTraces[:,np.where(myTraceLegend == 'trial_on')[1][0]]\n",
    "motor = myTraces[:,np.where(myTraceLegend == 'distractor_location')[1][0]]"
   ]
  },
  {
   "cell_type": "code",
   "execution_count": 60,
   "metadata": {},
   "outputs": [],
   "source": [
    "# process respiration\n",
    "windowsize = 15\n",
    "resp = resp - np.median(resp);\n",
    "resp = -resp;\n",
    "resp = np.convolve(resp, np.ones(windowsize), 'same') / windowsize;"
   ]
  },
  {
   "cell_type": "code",
   "execution_count": 62,
   "metadata": {},
   "outputs": [],
   "source": [
    "# process lever\n",
    "lever = savgol_filter(lever, 25, 4)\n"
   ]
  },
  {
   "cell_type": "code",
   "execution_count": null,
   "metadata": {},
   "outputs": [],
   "source": []
  }
 ],
 "metadata": {
  "kernelspec": {
   "display_name": "Python 3",
   "language": "python",
   "name": "python3"
  },
  "language_info": {
   "codemirror_mode": {
    "name": "ipython",
    "version": 3
   },
   "file_extension": ".py",
   "mimetype": "text/x-python",
   "name": "python",
   "nbconvert_exporter": "python",
   "pygments_lexer": "ipython3",
   "version": "3.8.5"
  }
 },
 "nbformat": 4,
 "nbformat_minor": 4
}
