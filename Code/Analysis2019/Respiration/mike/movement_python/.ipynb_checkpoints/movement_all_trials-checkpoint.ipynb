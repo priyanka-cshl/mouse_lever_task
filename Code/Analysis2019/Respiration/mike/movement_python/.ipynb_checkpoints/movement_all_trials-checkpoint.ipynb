{
 "cells": [
  {
   "cell_type": "code",
   "execution_count": 1,
   "metadata": {},
   "outputs": [],
   "source": [
    "import numpy as np\n",
    "np.warnings.filterwarnings('ignore')\n",
    "import scipy.io as sio\n",
    "from scipy.signal import find_peaks\n",
    "from scipy.signal import savgol_filter\n",
    "from scipy.stats import binned_statistic\n",
    "from pyearth import Earth, export\n",
    "%matplotlib inline\n",
    "import matplotlib.pyplot as plt\n",
    "import seaborn as sns"
   ]
  },
  {
   "cell_type": "code",
   "execution_count": 2,
   "metadata": {},
   "outputs": [],
   "source": [
    "filepath = \"/Users/xizheng/Documents/florin/respiration/K1/K1_20191226_r0_traces.mat\"\n",
    "Traces = sio.loadmat(filepath)['Traces']"
   ]
  },
  {
   "cell_type": "code",
   "execution_count": 3,
   "metadata": {},
   "outputs": [
    {
     "name": "stdout",
     "output_type": "stream",
     "text": [
      "skipping trial 0\n",
      "trial 1 has 7 sniffs\n",
      "trial 2 has 6 sniffs\n",
      "trial 3 has 5 sniffs\n",
      "trial 4 has 7 sniffs\n",
      "trial 5 has 4 sniffs\n",
      "trial 6 has 5 sniffs\n",
      "trial 7 has 5 sniffs\n",
      "trial 8 has 4 sniffs\n",
      "trial 9 has 3 sniffs\n"
     ]
    }
   ],
   "source": [
    "move_sniff_trial_valid_full = []\n",
    "s = \"\"\n",
    "\n",
    "for idx in range(10):\n",
    "    \n",
    "    # resp\n",
    "    resp = Traces[0,0]['Sniffs'][0,idx].flatten()\n",
    "    if len(resp) == 0:\n",
    "        print(\"skipping trial\", idx)\n",
    "        continue\n",
    "    windowsize = 15\n",
    "    resp = resp - np.median(resp)\n",
    "    resp = -resp\n",
    "    resp = np.convolve(resp, np.ones(windowsize), 'same') / windowsize\n",
    "    resp_pks_2, _ = find_peaks(-resp, prominence=0.3, height=0.2, distance=10)\n",
    "    \n",
    "    trial_on = Traces[0,0]['Trial'][0,idx].flatten()\n",
    "    \n",
    "    # lever\n",
    "    lever = Traces[0,0]['Lever'][0,idx].flatten()\n",
    "    lever = savgol_filter(lever, 25, 4)\n",
    "    x = np.arange(len(lever))\n",
    "\n",
    "    #Fit an Earth model\n",
    "    model = Earth(thresh=1e-5, minspan=30, penalty=10.0, check_every=1)\n",
    "    model.fit(x,lever)\n",
    "    \n",
    "    s += export.export_python_string(model, function_name=f\"model_{idx}\")\n",
    "    s += \"\\n\"\n",
    "    \n",
    "    y_hat = model.predict(x)\n",
    "\n",
    "    knots = []\n",
    "    for bf in model.basis_.piter():\n",
    "        if bf.has_knot():\n",
    "            knots.append(bf.get_knot())\n",
    "    vel = np.gradient(y_hat)\n",
    "    acc = np.gradient(vel)\n",
    "    peaks, _ = find_peaks(np.abs(acc), height=0.003, distance=20)\n",
    "    \n",
    "    # moves\n",
    "    movement = np.zeros(len(peaks)-1)\n",
    "    for i in range(len(peaks)-1):\n",
    "        movement[i] = abs(lever[peaks[i+1]] - lever[peaks[i]])\n",
    "\n",
    "    movement_signal = np.zeros(len(lever))\n",
    "    movement_signal[peaks[:-1]] = movement\n",
    "    large_thresh = 0\n",
    "    movement_signal_large = movement_signal > large_thresh\n",
    "    \n",
    "    # combine together\n",
    "    sniff_intervals = np.diff(resp_pks_2)\n",
    "    move_sniff_trial = np.empty((len(resp_pks_2)-1, 600))\n",
    "    move_sniff_trial[:] = np.nan\n",
    "    for start_idx in range(len(resp_pks_2)-1):\n",
    "        if trial_on[resp_pks_2[start_idx]] != 0 and resp_pks_2[start_idx] <= 1000: \n",
    "            move_sniff_trial[start_idx,:sniff_intervals[start_idx]+50] = movement_signal_large[resp_pks_2[start_idx]-50:resp_pks_2[start_idx+1]]\n",
    "            \n",
    "    sniff_trial_lengths = np.sum(~np.isnan(move_sniff_trial), 1)\n",
    "    a_order_trial = np.argsort(sniff_trial_lengths)[::-1]\n",
    "    move_sniff_trial_sorted = move_sniff_trial[a_order_trial,:]\n",
    "\n",
    "    # move_sniff_trial_sorted = move_sniff_trial\n",
    "    move_sniff_trial_sorted_valid = move_sniff_trial_sorted[~np.isnan(move_sniff_trial_sorted).all(axis=1),:]\n",
    "    sniff_trial_lengths_valid = sniff_trial_lengths[sniff_trial_lengths != 0] - 50\n",
    "    \n",
    "    print(f\"trial {idx} has {move_sniff_trial_sorted_valid.shape[0]} sniffs\")\n",
    "    \n",
    "    move_sniff_trial_valid_full.append(move_sniff_trial_sorted_valid)\n"
   ]
  },
  {
   "cell_type": "code",
   "execution_count": 4,
   "metadata": {},
   "outputs": [],
   "source": [
    "# sort\n",
    "move_sniff_trial_valid_full = np.vstack(move_sniff_trial_valid_full)\n",
    "sniff_trial_full_lengths = np.sum(~np.isnan(move_sniff_trial_valid_full), 1)\n",
    "a_order_trial_full = np.argsort(sniff_trial_full_lengths)[::-1]\n",
    "move_sniff_trial_valid_full_sorted = move_sniff_trial_valid_full[a_order_trial_full,:]"
   ]
  },
  {
   "cell_type": "code",
   "execution_count": 5,
   "metadata": {},
   "outputs": [
    {
     "data": {
      "image/png": "[encoded data removed]",
      "text/plain": [
       "<Figure size 864x576 with 1 Axes>"
      ]
     },
     "metadata": {
      "needs_background": "light"
     },
     "output_type": "display_data"
    }
   ],
   "source": [
    "plt.figure(figsize=(12,8))\n",
    "for i in range(move_sniff_trial_valid_full_sorted.shape[0]):\n",
    "    moves = np.where(move_sniff_trial_valid_full_sorted[i,:] == 1)[0]\n",
    "    for j in range(len(moves)):\n",
    "        plt.plot((moves[j], moves[j]), (i, i+1), 'k', linewidth=2)\n",
    "    trial_off = np.sum(~np.isnan(move_sniff_trial_valid_full_sorted[i,:]))\n",
    "    plt.plot((trial_off, trial_off), (i, i+1), ':k', linewidth=1)\n",
    "plt.axvline(50, color='k')\n",
    "plt.xlabel('sample idx')\n",
    "plt.ylabel('sniff')\n",
    "plt.show()\n"
   ]
  },
  {
   "cell_type": "code",
   "execution_count": 9,
   "metadata": {},
   "outputs": [
    {
     "data": {
      "image/png": "[encoded data removed]",
      "text/plain": [
       "<Figure size 432x288 with 1 Axes>"
      ]
     },
     "metadata": {
      "needs_background": "light"
     },
     "output_type": "display_data"
    }
   ],
   "source": [
    "mean_moves = np.nanmean(move_sniff_trial_valid_full_sorted, axis=0)\n",
    "binsize = 2\n",
    "bins = np.arange(0,600,binsize)\n",
    "bin_sums, bin_edges, binnumber = binned_statistic(np.arange(0,600), mean_moves, 'sum', bins=bins)\n",
    "\n",
    "plt.bar(bin_edges[:-1], bin_sums/(0.002*binsize), binsize)\n",
    "plt.axvline(50, color='k')\n",
    "plt.xlabel('sample idx')\n",
    "plt.ylabel('move rate')\n",
    "plt.show()"
   ]
  },
  {
   "cell_type": "code",
   "execution_count": 7,
   "metadata": {},
   "outputs": [],
   "source": [
    "f = open(\"models.txt\", \"w\")\n",
    "f.write(s)\n",
    "f.close()"
   ]
  },
  {
   "cell_type": "code",
   "execution_count": null,
   "metadata": {},
   "outputs": [],
   "source": []
  }
 ],
 "metadata": {
  "kernelspec": {
   "display_name": "Python 3",
   "language": "python",
   "name": "python3"
  },
  "language_info": {
   "codemirror_mode": {
    "name": "ipython",
    "version": 3
   },
   "file_extension": ".py",
   "mimetype": "text/x-python",
   "name": "python",
   "nbconvert_exporter": "python",
   "pygments_lexer": "ipython3",
   "version": "3.8.5"
  }
 },
 "nbformat": 4,
 "nbformat_minor": 4
}
